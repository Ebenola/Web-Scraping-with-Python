{
 "cells": [
  {
   "cell_type": "code",
   "execution_count": 1,
   "id": "9ed47cee",
   "metadata": {},
   "outputs": [],
   "source": [
    "from bs4 import BeautifulSoup\n",
    "import requests\n"
   ]
  },
  {
   "cell_type": "code",
   "execution_count": 2,
   "id": "93c6b3b3",
   "metadata": {},
   "outputs": [],
   "source": [
    "import pandas as pd\n",
    "\n",
    "# creating an empty list to store all rows in pages 1 - 100\n",
    "all_table_rows = []"
   ]
  },
  {
   "cell_type": "code",
   "execution_count": 3,
   "id": "1223ec42",
   "metadata": {},
   "outputs": [],
   "source": [
    "# URL of the webpage to scrape\n",
    "for page_number in range(1, 100):\n",
    "    url = \"https://www.hfr.health.gov.ng/facilities/hospitals-list?page=\"+str(page_number)\n",
    "    page = requests.get(url)\n",
    "    soup = BeautifulSoup(page.content, 'html.parser')  \n",
    "    \n",
    "# Find all table rows on the page and append them to the list\n",
    "    table_rows = soup.find_all('tr') \n",
    "\n",
    "    all_table_rows.extend(table_rows)"
   ]
  },
  {
   "cell_type": "code",
   "execution_count": 5,
   "id": "cf3888d4",
   "metadata": {},
   "outputs": [],
   "source": [
    "# Find all table rows on the page and append them to the list\n",
    "table_rows = soup.find_all('tr') \n",
    "\n",
    "all_table_rows.extend(table_rows)"
   ]
  },
  {
   "cell_type": "code",
   "execution_count": 6,
   "id": "eef8c435",
   "metadata": {},
   "outputs": [],
   "source": [
    "# Extracting titles from the first row if available\n",
    "hospital_table_titles = [title.text.strip() for title in all_table_rows[0].find_all('th')] if all_table_rows else []"
   ]
  },
  {
   "cell_type": "code",
   "execution_count": 7,
   "id": "34a34a17",
   "metadata": {},
   "outputs": [
    {
     "name": "stdout",
     "output_type": "stream",
     "text": [
      "        State        LGA     Ward Facility UID     Facility Code  \\\n",
      "0        Abia  Aba North  Ariaria     48319756  01/01/1/1/2/0001   \n",
      "1        Abia  Aba North  Ariaria     63964073  01/01/1/1/2/0012   \n",
      "2        Abia  Aba North  Ariaria     26456575  01/01/1/1/2/0025   \n",
      "3        Abia  Aba North  Ariaria     73938255  01/01/1/1/2/0030   \n",
      "4        Abia  Aba North  Ariaria     40844348  01/01/1/1/2/0031   \n",
      "...       ...        ...      ...          ...               ...   \n",
      "2094  Adamawa       Song     Zumo     54172513  02/18/1/1/1/0069   \n",
      "2095  Adamawa     Toungo   Dawo 1     41021564  02/19/1/1/1/0008   \n",
      "2096  Adamawa     Toungo   Dawo 1     84631003  02/19/1/1/1/0063   \n",
      "2097  Adamawa     Toungo   Dawo 2     56395139  02/19/1/1/1/0061   \n",
      "2098  Adamawa     Toungo   Dawo 2     85357194  02/19/1/1/1/0006   \n",
      "\n",
      "                             Facility Name Facility Level Ownership Details  \n",
      "0                 Aba Holy Wounds Hospital      Secondary   Private    View  \n",
      "1                         Chidima Hospital        Primary   Private    View  \n",
      "2                            Euna Hospital      Secondary   Private    View  \n",
      "3                Goodness & Mercy hospital      Secondary   Private    View  \n",
      "4                      Green Land Hospital        Primary   Private    View  \n",
      "...                                    ...            ...       ...     ...  \n",
      "2094       Zumo Primary Health Care Centre        Primary    Public    View  \n",
      "2095  Gangseini Primary Health Care Center        Primary    Public    View  \n",
      "2096                 Gangtaren Health Post        Primary    Public    View  \n",
      "2097    Daduken Primary Health Care Center        Primary    Public    View  \n",
      "2098                      Dasu Health Post        Primary    Public    View  \n",
      "\n",
      "[2099 rows x 9 columns]\n"
     ]
    }
   ],
   "source": [
    "# Creating a DataFrame with the extracted data\n",
    "data = []\n",
    "for row in all_table_rows[1:]:  # Skip the first row if it's a header\n",
    "    row_data = [cell.text.strip() for cell in row.find_all('td')]\n",
    "    data.append(row_data)\n",
    "\n",
    "df = pd.DataFrame(data, columns=hospital_table_titles)\n",
    "print(df)"
   ]
  },
  {
   "cell_type": "code",
   "execution_count": 8,
   "id": "84587954",
   "metadata": {},
   "outputs": [],
   "source": [
    "from pathlib import Path\n",
    "\n",
    "# Specify the directory and file name\n",
    "output_dir = Path(r'C:\\Users\\Ebenola\\Document\\WSP')\n",
    "output_file = 'Hospital-List1.csv'"
   ]
  },
  {
   "cell_type": "code",
   "execution_count": 9,
   "id": "858c58de",
   "metadata": {},
   "outputs": [],
   "source": [
    "# Create any missing parent directories\n",
    "output_dir.mkdir(parents=True, exist_ok=True)\n",
    "\n",
    "# Save the DataFrame to CSV\n",
    "df.to_csv(output_dir / output_file, index=False)"
   ]
  },
  {
   "cell_type": "code",
   "execution_count": null,
   "id": "634f895f",
   "metadata": {},
   "outputs": [],
   "source": []
  }
 ],
 "metadata": {
  "kernelspec": {
   "display_name": "Python 3 (ipykernel)",
   "language": "python",
   "name": "python3"
  },
  "language_info": {
   "codemirror_mode": {
    "name": "ipython",
    "version": 3
   },
   "file_extension": ".py",
   "mimetype": "text/x-python",
   "name": "python",
   "nbconvert_exporter": "python",
   "pygments_lexer": "ipython3",
   "version": "3.9.13"
  }
 },
 "nbformat": 4,
 "nbformat_minor": 5
}
